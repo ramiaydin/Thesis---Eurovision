{
 "cells": [
  {
   "cell_type": "code",
   "execution_count": 1,
   "id": "5c607986",
   "metadata": {},
   "outputs": [],
   "source": [
    "#import packages\n",
    "import pandas as pd\n",
    "import numpy as np\n",
    "import tensorflow as tf\n",
    "import tensorflow_hub as hub\n",
    "import tensorflow_text as text"
   ]
  },
  {
   "cell_type": "code",
   "execution_count": 2,
   "id": "ed8a640b",
   "metadata": {},
   "outputs": [],
   "source": [
    "#import pre-processed file\n",
    "df = pd.read_csv(\"eurovision_preprocessed.csv\")"
   ]
  },
  {
   "cell_type": "code",
   "execution_count": 3,
   "id": "2d258270",
   "metadata": {},
   "outputs": [
    {
     "name": "stderr",
     "output_type": "stream",
     "text": [
      "2021-12-02 19:33:09.550617: I tensorflow/core/platform/cpu_feature_guard.cc:142] This TensorFlow binary is optimized with oneAPI Deep Neural Network Library (oneDNN) to use the following CPU instructions in performance-critical operations:  AVX2 FMA\n",
      "To enable them in other operations, rebuild TensorFlow with the appropriate compiler flags.\n",
      "2021-12-02 19:33:11.134127: I tensorflow/compiler/mlir/mlir_graph_optimization_pass.cc:185] None of the MLIR Optimization Passes are enabled (registered 2)\n"
     ]
    }
   ],
   "source": [
    "#load BERT \n",
    "bert_preprocess = hub.KerasLayer(\"https://tfhub.dev/tensorflow/bert_en_uncased_preprocess/3\")\n",
    "bert_encoder = hub.KerasLayer(\"https://tfhub.dev/tensorflow/bert_en_uncased_L-24_H-1024_A-16/4\")"
   ]
  },
  {
   "cell_type": "code",
   "execution_count": 4,
   "id": "5e7fb03b",
   "metadata": {},
   "outputs": [],
   "source": [
    "lyrics = df.iloc[:,15]"
   ]
  },
  {
   "cell_type": "code",
   "execution_count": 5,
   "id": "7d75a5c8",
   "metadata": {},
   "outputs": [],
   "source": [
    "def get_sentence_embeding(sentences):\n",
    "    preprocessed_text = bert_preprocess(sentences)\n",
    "    return bert_encoder(preprocessed_text)['pooled_output']"
   ]
  },
  {
   "cell_type": "code",
   "execution_count": 6,
   "id": "05ba25b1",
   "metadata": {},
   "outputs": [],
   "source": [
    "#pre-processing and transforming lyrics\n",
    "lyric_vectors = get_sentence_embeding(lyrics)"
   ]
  },
  {
   "cell_type": "code",
   "execution_count": 7,
   "id": "85a1d0ff",
   "metadata": {},
   "outputs": [
    {
     "data": {
      "text/plain": [
       "tensorflow.python.framework.ops.EagerTensor"
      ]
     },
     "execution_count": 7,
     "metadata": {},
     "output_type": "execute_result"
    }
   ],
   "source": [
    "type (lyric_vectors)"
   ]
  },
  {
   "cell_type": "code",
   "execution_count": 9,
   "id": "70caab2d",
   "metadata": {},
   "outputs": [
    {
     "data": {
      "text/plain": [
       "TensorShape([1076, 1024])"
      ]
     },
     "execution_count": 9,
     "metadata": {},
     "output_type": "execute_result"
    }
   ],
   "source": [
    "lyric_vectors.shape"
   ]
  },
  {
   "cell_type": "code",
   "execution_count": 10,
   "id": "297857cb",
   "metadata": {},
   "outputs": [],
   "source": [
    "#Convert to numpy array\n",
    "converted_lyrics = lyric_vectors.numpy()"
   ]
  },
  {
   "cell_type": "code",
   "execution_count": 11,
   "id": "a37ba45b",
   "metadata": {},
   "outputs": [],
   "source": [
    "#Save \n",
    "np.save(\"converted_lyrics_24.npy\",converted_lyrics)"
   ]
  }
 ],
 "metadata": {
  "kernelspec": {
   "display_name": "Python 3 (ipykernel)",
   "language": "python",
   "name": "python3"
  },
  "language_info": {
   "codemirror_mode": {
    "name": "ipython",
    "version": 3
   },
   "file_extension": ".py",
   "mimetype": "text/x-python",
   "name": "python",
   "nbconvert_exporter": "python",
   "pygments_lexer": "ipython3",
   "version": "3.8.5"
  }
 },
 "nbformat": 4,
 "nbformat_minor": 5
}
